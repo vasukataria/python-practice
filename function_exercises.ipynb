{
 "cells": [
  {
   "cell_type": "markdown",
   "metadata": {},
   "source": [
    "#### Q Write a Python function to find the Max of three numbers"
   ]
  },
  {
   "cell_type": "code",
   "execution_count": 6,
   "metadata": {},
   "outputs": [],
   "source": [
    "# Your implementation\n",
    "def max_of_three(a,b,c):\n",
    "    if(a>=b) and (a>=c):\n",
    "        largest = a\n",
    "    elif(b>=a) and (b>=c):\n",
    "        largest = b\n",
    "    else:\n",
    "        largest = c\n",
    "    return largest "
   ]
  },
  {
   "cell_type": "code",
   "execution_count": 8,
   "metadata": {},
   "outputs": [],
   "source": [
    "assert max_of_three(1,2,3) == 3\n",
    "assert max_of_three(1,2,-3) == 2\n",
    "assert max_of_three(1,2.99,3) == 3"
   ]
  },
  {
   "cell_type": "markdown",
   "metadata": {},
   "source": [
    "#### Q Write a Python function to sum all the numbers in a list."
   ]
  },
  {
   "cell_type": "code",
   "execution_count": 16,
   "metadata": {},
   "outputs": [],
   "source": [
    "# Your implementation\n",
    "def sum_of_list(number):\n",
    "    total=0\n",
    "    for n in number:\n",
    "        total += n\n",
    "    return total\n"
   ]
  },
  {
   "cell_type": "code",
   "execution_count": 18,
   "metadata": {},
   "outputs": [],
   "source": [
    "assert sum_of_list([-1,0,1]) == 0\n",
    "assert sum_of_list([]) == 0\n",
    "assert sum_of_list([1,10,100]) == 111"
   ]
  },
  {
   "cell_type": "markdown",
   "metadata": {},
   "source": [
    "#### Q Write a Python program to reverse a string\n",
    "\n",
    "Sample String : \"1234abcd\"  \n",
    "Expected Output : \"dcba4321\""
   ]
  },
  {
   "cell_type": "code",
   "execution_count": 77,
   "metadata": {},
   "outputs": [
    {
     "data": {
      "text/plain": [
       "'usav'"
      ]
     },
     "execution_count": 77,
     "metadata": {},
     "output_type": "execute_result"
    }
   ],
   "source": [
    "# YOur implementation\n",
    "def reverse_of_string(statment):\n",
    "  str = \"\" \n",
    "  for i in statment: \n",
    "    str = i + str\n",
    "  return str\n",
    "reverse_of_string(\"vasu\")"
   ]
  },
  {
   "cell_type": "code",
   "execution_count": 26,
   "metadata": {},
   "outputs": [],
   "source": [
    "assert reverse_of_string(\"1234abcd\") == \"dcba4321\""
   ]
  },
  {
   "cell_type": "markdown",
   "metadata": {},
   "source": [
    "#### Q Write a Python function that accepts a string and calculate the number of upper case letters and lower case letters\n",
    "\n",
    "Sample String : 'The quick Brow Fox'  \n",
    "Expected Output(A dict) : \n",
    "```py\n",
    "{ 'upper': 3, 'lower': 12 }\n",
    "```"
   ]
  },
  {
   "cell_type": "code",
   "execution_count": 112,
   "metadata": {},
   "outputs": [
    {
     "data": {
      "text/plain": [
       "{'upper': 0, 'lower': 0}"
      ]
     },
     "execution_count": 112,
     "metadata": {},
     "output_type": "execute_result"
    }
   ],
   "source": [
    "# Your implementation\n",
    "def calculate_case_in(statment):\n",
    "    if len(statment)==0:\n",
    "        return {\"upper\":0,\"lower\":0}\n",
    "    upper_count=0\n",
    "    lower_count=0\n",
    "    for c in statment:\n",
    "        if c.isupper():\n",
    "            upper_count +=1\n",
    "        else:\n",
    "            lower_count +=1\n",
    "    return {\"upper\": upper_count,\"lower\": lower_count}\n",
    "calculate_case_in('The quick Brow Fox')\n",
    "calculate_case_in(\"\")"
   ]
  },
  {
   "cell_type": "code",
   "execution_count": 114,
   "metadata": {},
   "outputs": [],
   "source": [
    "output = calculate_case_in('The quick Brow Fox')\n",
    "assert output['upper'] == 3\n",
    "assert output['lower'] == 15\n",
    "\n",
    "output2 = calculate_case_in('')\n",
    "assert output2['upper'] == 0\n",
    "assert output2['lower'] == 0"
   ]
  },
  {
   "cell_type": "markdown",
   "metadata": {},
   "source": [
    "#### Q Write a Python function that takes a list and returns a new list with unique elements of the first list.\n",
    "\n",
    "Sample List : `[1,2,3,3,3,3,4,5]`   \n",
    "Unique List : `[1, 2, 3, 4, 5]`"
   ]
  },
  {
   "cell_type": "code",
   "execution_count": 26,
   "metadata": {},
   "outputs": [
    {
     "data": {
      "text/plain": [
       "[8, 1, 2, 3, 4, 5, 6, 7]"
      ]
     },
     "execution_count": 26,
     "metadata": {},
     "output_type": "execute_result"
    }
   ],
   "source": [
    "# Your implementation\n",
    "def get_unique_elements(sample_list):\n",
    "    unique_list =[]\n",
    "    for n in sample_list:\n",
    "        if n not in unique_list:\n",
    "             unique_list.append(n)\n",
    "    return unique_list\n",
    "get_unique_elements([8,1,1,1,1,1,1,1,1,1,1,1,2,2,3,4,3,4,5,6,7])"
   ]
  },
  {
   "cell_type": "code",
   "execution_count": 23,
   "metadata": {},
   "outputs": [],
   "source": [
    "assert get_unique_elements([1,2,3,3,3,3,4,5]) == [1, 2, 3, 4, 5]"
   ]
  },
  {
   "cell_type": "markdown",
   "metadata": {},
   "source": [
    "#### Q Write a Python function that checks whether a passed string is palindrome or not. The function should return `True` is a word is a palindrome, else `False`\n",
    "\n",
    "A palindrome is a word that reads the same backward as forward.  \n",
    "eg. 'nitin', 'madam'\n"
   ]
  },
  {
   "cell_type": "code",
   "execution_count": 120,
   "metadata": {},
   "outputs": [
    {
     "name": "stdout",
     "output_type": "stream",
     "text": [
      "word: rotator\n",
      "rev_word: rotator\n"
     ]
    },
    {
     "data": {
      "text/plain": [
       "True"
      ]
     },
     "execution_count": 120,
     "metadata": {},
     "output_type": "execute_result"
    }
   ],
   "source": [
    "# Your implementation\n",
    "def is_palindrome(word):\n",
    "    word = word.lower()\n",
    "    rev_word = \"\" \n",
    "    for c in word: \n",
    "        rev_word = c + rev_word\n",
    "    print('word:',word)\n",
    "    print('rev_word:',rev_word)\n",
    "    if word==rev_word:\n",
    "        return True\n",
    "    else:\n",
    "        return False\n",
    "is_palindrome(\"Rotator\")"
   ]
  },
  {
   "cell_type": "code",
   "execution_count": 121,
   "metadata": {},
   "outputs": [
    {
     "name": "stdout",
     "output_type": "stream",
     "text": [
      "word: rotator\n",
      "rev_word: rotator\n",
      "word: python\n",
      "rev_word: nohtyp\n"
     ]
    }
   ],
   "source": [
    "assert is_palindrome('Rotator') == True\n",
    "assert is_palindrome('python') == False"
   ]
  },
  {
   "cell_type": "markdown",
   "metadata": {},
   "source": [
    "#### Q Write a Python function that accepts a hyphen-separated sequence of words as input and prints the words in a hyphen-separated sequence after sorting them alphabetically. \n",
    "\n",
    "Sample Items : green-red-yellow-black-white   \n",
    "Expected Result : black-green-red-white-yellow"
   ]
  },
  {
   "cell_type": "code",
   "execution_count": 195,
   "metadata": {},
   "outputs": [
    {
     "data": {
      "text/plain": [
       "'black-green-red-white-yellow'"
      ]
     },
     "execution_count": 195,
     "metadata": {},
     "output_type": "execute_result"
    }
   ],
   "source": [
    "# Your implementation\n",
    "def print_sorted_sequence(statments):\n",
    "    abc=[]\n",
    "    #for ch in statments:\n",
    "    list_of_words = statments.split(\"-\")\n",
    "    list_of_words.sort()\n",
    "    \n",
    "    return '-'.join(list_of_words)\n",
    "       \n",
    "       # a=abc.sort(statments)\n",
    "print_sorted_sequence(\"green-red-yellow-black-white\")\n"
   ]
  },
  {
   "cell_type": "code",
   "execution_count": 196,
   "metadata": {},
   "outputs": [],
   "source": [
    "assert print_sorted_sequence('green-red-yellow-black-white') == 'black-green-red-white-yellow'"
   ]
  },
  {
   "cell_type": "markdown",
   "metadata": {},
   "source": [
    "#### Q Write a python function that accepts a string and returns the frequency count of the characters in the string.   \n",
    "Frequency count is the number of times each character has occured in the string.\n",
    "\n",
    "Eg.\n",
    "Input string: 'Papa'\n",
    "Output(a dict): `{'a': 2, 'q': 2}`"
   ]
  },
  {
   "cell_type": "code",
   "execution_count": 159,
   "metadata": {},
   "outputs": [
    {
     "name": "stdout",
     "output_type": "stream",
     "text": [
      "{'v': 1, 'a': 4, 's': 1, 'u': 1, ' ': 1, 'k': 1, 't': 1, 'r': 1, 'i': 1}\n"
     ]
    }
   ],
   "source": [
    "# Your implementation\n",
    "def char_frequency(str1):\n",
    "    dict = {}\n",
    "    for n in str1:\n",
    "        x = dict.keys()\n",
    "        if n in x:\n",
    "            dict[n] += 1\n",
    "        else:\n",
    "            dict[n] = 1\n",
    "    return dict\n",
    "print(char_frequency('vasu kataria'))\n"
   ]
  }
 ],
 "metadata": {
  "kernelspec": {
   "display_name": "Python 3",
   "language": "python",
   "name": "python3"
  },
  "language_info": {
   "codemirror_mode": {
    "name": "ipython",
    "version": 3
   },
   "file_extension": ".py",
   "mimetype": "text/x-python",
   "name": "python",
   "nbconvert_exporter": "python",
   "pygments_lexer": "ipython3",
   "version": "3.6.5"
  }
 },
 "nbformat": 4,
 "nbformat_minor": 2
}
